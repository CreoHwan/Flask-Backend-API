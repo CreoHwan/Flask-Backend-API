{
 "cells": [
  {
   "cell_type": "code",
   "execution_count": null,
   "id": "e6fc288f",
   "metadata": {},
   "outputs": [],
   "source": [
    "from sqlalchemy.engine import create_engine\n",
    "\n",
    "\n",
    "\n",
    "from sqlalchemy import create_engine, text\n",
    "from sqlalchemy.sql import text\n",
    "import mysql.connector\n",
    "\n",
    "db = {\n",
    "        'user' : 'root',\n",
    "        'password' : 'DLwjdghks139@',\n",
    "        'host' : 'localhost',\n",
    "        'port' : 3306,\n",
    "        'database' : 'miniter'\n",
    "}\n"
   ]
  }
 ],
 "metadata": {
  "kernelspec": {
   "display_name": "Python 3 (ipykernel)",
   "language": "python",
   "name": "python3"
  },
  "language_info": {
   "codemirror_mode": {
    "name": "ipython",
    "version": 3
   },
   "file_extension": ".py",
   "mimetype": "text/x-python",
   "name": "python",
   "nbconvert_exporter": "python",
   "pygments_lexer": "ipython3",
   "version": "3.7.11"
  }
 },
 "nbformat": 4,
 "nbformat_minor": 5
}
