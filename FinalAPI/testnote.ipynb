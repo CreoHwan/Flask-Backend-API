{
 "cells": [
  {
   "cell_type": "code",
   "execution_count": 26,
   "id": "bd42ec74",
   "metadata": {},
   "outputs": [],
   "source": [
    "import jwt\n",
    "import bcrypt\n",
    "import pytest\n",
    "import config\n",
    "\n",
    "from model      import UserDao, TweetDao\n",
    "from service    import UserService, TweetService\n",
    "from sqlalchemy import create_engine, text\n",
    "\n",
    "database = create_engine(config.test_config['DB_URL'], encoding= 'utf-8', max_overflow = 0)\n",
    "\n",
    "@pytest.fixture\n",
    "def user_service():\n",
    "    return UserService(UserDao(database), config)\n",
    "\n",
    "@pytest.fixture\n",
    "def tweet_service():\n",
    "    return TweetService(TweetDao(database))\n"
   ]
  },
  {
   "cell_type": "code",
   "execution_count": null,
   "id": "1682e022",
   "metadata": {},
   "outputs": [],
   "source": [
    "hashed_password = bcrypt.hashpw(\n",
    "        b\"test password\",\n",
    "        bcrypt.gensalt()\n",
    "    )\n",
    "new_users = [\n",
    "        {\n",
    "            'id'              : '1',\n",
    "            'name'            : '송은우',\n",
    "            'email'           : 'songew@gmail.com',\n",
    "            'profile'         : 'test profile',\n",
    "            'hashed_password' : hashed_password\n",
    "        }, {\n",
    "            'id'              : '2',\n",
    "            'name'            : '김철수',\n",
    "            'email'           : 'tet@gmail.com',\n",
    "            'profile'         : 'test profile',\n",
    "            'hashed_password' : hashed_password\n",
    "        }\n",
    "    ]\n",
    "database.execute(text(\"\"\"\n",
    "        INSERT INTO users (\n",
    "            id,\n",
    "            name,\n",
    "            email,\n",
    "            profile,\n",
    "            hashed_password\n",
    "        ) VALUES (\n",
    "            :id,\n",
    "            :name,\n",
    "            :email,\n",
    "            :profile,\n",
    "            :hashed_password\n",
    "        )\n",
    "    \"\"\"), new_users)\n"
   ]
  },
  {
   "cell_type": "code",
   "execution_count": 13,
   "id": "c80ad892",
   "metadata": {},
   "outputs": [],
   "source": [
    "database.execute(text(\"\"\"\n",
    "        INSERT INTO tweets (\n",
    "            user_id,\n",
    "            tweet\n",
    "        ) VALUES (\n",
    "            2,\n",
    "            \"Hello World!\"\n",
    "        )\n",
    "    \"\"\"))\n",
    "a=1\n"
   ]
  },
  {
   "cell_type": "code",
   "execution_count": 23,
   "id": "d2c4ea3c",
   "metadata": {},
   "outputs": [],
   "source": [
    "rows =database.execute(text('SELECT id FROM users WHERE id = :a'),{'a':'5'})\n"
   ]
  },
  {
   "cell_type": "code",
   "execution_count": 22,
   "id": "59b96f64",
   "metadata": {},
   "outputs": [
    {
     "ename": "TypeError",
     "evalue": "'LegacyCursorResult' object is not subscriptable",
     "output_type": "error",
     "traceback": [
      "\u001b[0;31m---------------------------------------------------------------------------\u001b[0m",
      "\u001b[0;31mTypeError\u001b[0m                                 Traceback (most recent call last)",
      "\u001b[0;32m/tmp/ipykernel_21024/3853924582.py\u001b[0m in \u001b[0;36m<module>\u001b[0;34m\u001b[0m\n\u001b[0;32m----> 1\u001b[0;31m \u001b[0mprint\u001b[0m\u001b[0;34m(\u001b[0m\u001b[0mrows\u001b[0m\u001b[0;34m[\u001b[0m\u001b[0;34m'id'\u001b[0m\u001b[0;34m]\u001b[0m\u001b[0;34m)\u001b[0m\u001b[0;34m\u001b[0m\u001b[0;34m\u001b[0m\u001b[0m\n\u001b[0m",
      "\u001b[0;31mTypeError\u001b[0m: 'LegacyCursorResult' object is not subscriptable"
     ]
    }
   ],
   "source": [
    "print(rows['id'])"
   ]
  },
  {
   "cell_type": "code",
   "execution_count": null,
   "id": "eb3af4c0",
   "metadata": {},
   "outputs": [],
   "source": []
  }
 ],
 "metadata": {
  "kernelspec": {
   "display_name": "API",
   "language": "python",
   "name": "api"
  },
  "language_info": {
   "codemirror_mode": {
    "name": "ipython",
    "version": 3
   },
   "file_extension": ".py",
   "mimetype": "text/x-python",
   "name": "python",
   "nbconvert_exporter": "python",
   "pygments_lexer": "ipython3",
   "version": "3.7.11"
  },
  "toc": {
   "base_numbering": 1,
   "nav_menu": {},
   "number_sections": true,
   "sideBar": true,
   "skip_h1_title": false,
   "title_cell": "Table of Contents",
   "title_sidebar": "Contents",
   "toc_cell": false,
   "toc_position": {},
   "toc_section_display": true,
   "toc_window_display": false
  }
 },
 "nbformat": 4,
 "nbformat_minor": 5
}
